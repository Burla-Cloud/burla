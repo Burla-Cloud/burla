{
 "cells": [
  {
   "cell_type": "markdown",
   "id": "1a379d20-469e-413b-8bdf-73d22b28cd95",
   "metadata": {},
   "source": [
    "### How to test Burla in Jupyter\n",
    "\n",
    "- run `make test-jupyter`\n",
    "- open this file and just freestyle the tests"
   ]
  },
  {
   "cell_type": "code",
   "execution_count": 14,
   "id": "9526c3e7-2b17-4db2-879e-1c46d355898a",
   "metadata": {},
   "outputs": [
    {
     "name": "stdout",
     "output_type": "stream",
     "text": [
      "\n",
      "sum of all sleeps: 53.41662798644481\n",
      "lowest possible runtime: 28.659722620163237\n",
      "highest possible runtime: 41.99630342095335\n"
     ]
    }
   ],
   "source": [
    "import math\n",
    "import heapq\n",
    "import random\n",
    "from time import sleep, time\n",
    "\n",
    "from burla import remote_parallel_map\n",
    "\n",
    "\n",
    "def _normally_distributed_random_numbers(quantity):\n",
    "\n",
    "    def clamp(x, lower=0.1, upper=60):\n",
    "        return max(lower, min(x, upper))\n",
    "\n",
    "    def box_muller():\n",
    "        u1 = random.random()\n",
    "        u2 = random.random()\n",
    "        z = math.sqrt(-2 * math.log(u1)) * math.cos(2 * math.pi * u2)\n",
    "        return z\n",
    "\n",
    "    mean = -30\n",
    "    std_dev = 20\n",
    "    samples = []\n",
    "\n",
    "    for _ in range(quantity):\n",
    "        val = clamp(mean + box_muller() * std_dev)\n",
    "        samples.append(val)\n",
    "\n",
    "    return samples\n",
    "\n",
    "\n",
    "def _min_total_runtime(sleep_times, num_workers):\n",
    "    workers = [0] * num_workers\n",
    "    heapq.heapify(workers)\n",
    "    for t in sorted(sleep_times, reverse=True):\n",
    "        earliest = heapq.heappop(workers)\n",
    "        heapq.heappush(workers, earliest + t)\n",
    "    return max(workers)\n",
    "\n",
    "\n",
    "def _max_total_runtime(sleep_times, num_workers):\n",
    "    chunk_size = len(sleep_times) // num_workers\n",
    "    remainder = len(sleep_times) % num_workers\n",
    "\n",
    "    chunks = []\n",
    "    start = 0\n",
    "    for i in range(num_workers):\n",
    "        end = start + chunk_size + (1 if i < remainder else 0)\n",
    "        chunks.append(sum(sleep_times[start:end]))\n",
    "        start = end\n",
    "\n",
    "    return max(chunks)\n",
    "\n",
    "\n",
    "n_workers = 2\n",
    "my_inputs = _normally_distributed_random_numbers(100)\n",
    "print(f\"\\nsum of all sleeps: {sum(my_inputs)}\")\n",
    "print(f\"lowest possible runtime: {_min_total_runtime(my_inputs, n_workers)}\")\n",
    "print(f\"highest possible runtime: {_max_total_runtime(my_inputs, n_workers)}\")"
   ]
  },
  {
   "cell_type": "code",
   "execution_count": 15,
   "id": "c560bb98-6d70-4d3e-8c41-ccf3c0f36d5a",
   "metadata": {},
   "outputs": [
    {
     "name": "stdout",
     "output_type": "stream",
     "text": [
      "✔ Done! Ran 100 inputs through `simple_test_function` (100/100 completed)                              \n",
      "Done after 33.43303608894348\n"
     ]
    }
   ],
   "source": [
    "\n",
    "def simple_test_function(sleep_time):\n",
    "    sleep(sleep_time)\n",
    "    return sleep_time\n",
    "\n",
    "start = time()\n",
    "\n",
    "remote_parallel_map(simple_test_function, my_inputs)\n",
    "\n",
    "print(f\"Done after {time() - start}\")"
   ]
  },
  {
   "cell_type": "code",
   "execution_count": null,
   "id": "b2a0d3f9-2e12-49ba-8073-6e162d341c7e",
   "metadata": {},
   "outputs": [],
   "source": []
  }
 ],
 "metadata": {
  "kernelspec": {
   "display_name": "Python 3 (ipykernel)",
   "language": "python",
   "name": "python3"
  },
  "language_info": {
   "codemirror_mode": {
    "name": "ipython",
    "version": 3
   },
   "file_extension": ".py",
   "mimetype": "text/x-python",
   "name": "python",
   "nbconvert_exporter": "python",
   "pygments_lexer": "ipython3",
   "version": "3.11.4"
  }
 },
 "nbformat": 4,
 "nbformat_minor": 5
}
