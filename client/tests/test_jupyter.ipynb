{
 "cells": [
  {
   "cell_type": "markdown",
   "id": "1a379d20-469e-413b-8bdf-73d22b28cd95",
   "metadata": {},
   "source": [
    "### How to test Burla in Jupyter\n",
    "\n",
    "- run `make test-jupyter`\n",
    "- open this file and just freestyle the tests"
   ]
  },
  {
   "cell_type": "code",
   "execution_count": 4,
   "id": "beec762e-bf56-4d21-87ed-a65012d1433f",
   "metadata": {},
   "outputs": [],
   "source": [
    "import os\n",
    "from time import sleep\n",
    "\n",
    "from burla import remote_parallel_map\n",
    "\n",
    "\n",
    "os.environ[\"BURLA_API_URL\"] = \"http://127.0.0.1:5001\""
   ]
  },
  {
   "cell_type": "code",
   "execution_count": 5,
   "id": "9526c3e7-2b17-4db2-879e-1c46d355898a",
   "metadata": {},
   "outputs": [
    {
     "name": "stdout",
     "output_type": "stream",
     "text": [
      "total: 8260.87 seconds\n",
      "perfect runtime with 120 workers: 68.84 seconds\n"
     ]
    }
   ],
   "source": [
    "import random\n",
    "import math\n",
    "\n",
    "\n",
    "def _normally_distributed_random_numbers(quantity):\n",
    "\n",
    "    def clamp(x, lower=0.1, upper=60):\n",
    "        return max(lower, min(x, upper))\n",
    "\n",
    "    def box_muller():\n",
    "        u1 = random.random()\n",
    "        u2 = random.random()\n",
    "        z = math.sqrt(-2 * math.log(u1)) * math.cos(2 * math.pi * u2)\n",
    "        return z\n",
    "\n",
    "    mean = -30\n",
    "    std_dev = 20\n",
    "    samples = []\n",
    "\n",
    "    for _ in range(quantity):\n",
    "        val = clamp(mean + box_muller() * std_dev)\n",
    "        samples.append(val)\n",
    "\n",
    "    return samples\n",
    "\n",
    "sleep_times = _normally_distributed_random_numbers(13000)\n",
    "n_workers = 120\n",
    "\n",
    "print(f\"total: {sum(sleep_times):.2f} seconds\")\n",
    "print(f\"perfect runtime with {n_workers} workers: {sum(sleep_times)/n_workers:.2f} seconds\")"
   ]
  },
  {
   "cell_type": "code",
   "execution_count": 2,
   "id": "c560bb98-6d70-4d3e-8c41-ccf3c0f36d5a",
   "metadata": {},
   "outputs": [
    {
     "name": "stdout",
     "output_type": "stream",
     "text": [
      "0                                                          \n",
      "3\n",
      "1                                                 \n",
      "2\n",
      "4                                                 \n",
      "✔ Done!                                           \n"
     ]
    },
    {
     "data": {
      "text/plain": [
       "[0, 3, 2, 1, 4]"
      ]
     },
     "execution_count": 2,
     "metadata": {},
     "output_type": "execute_result"
    }
   ],
   "source": [
    "\n",
    "def simple_test_function(sleep_time):\n",
    "    sleep(sleep_time)\n",
    "    return sleep_time\n",
    "\n",
    "remote_parallel_map(simple_test_function, sleep_times)"
   ]
  },
  {
   "cell_type": "code",
   "execution_count": null,
   "id": "c68f9b9b-664c-4cd3-99fa-82e7d6491061",
   "metadata": {},
   "outputs": [],
   "source": []
  }
 ],
 "metadata": {
  "kernelspec": {
   "display_name": "Python 3 (ipykernel)",
   "language": "python",
   "name": "python3"
  },
  "language_info": {
   "codemirror_mode": {
    "name": "ipython",
    "version": 3
   },
   "file_extension": ".py",
   "mimetype": "text/x-python",
   "name": "python",
   "nbconvert_exporter": "python",
   "pygments_lexer": "ipython3",
   "version": "3.11.4"
  }
 },
 "nbformat": 4,
 "nbformat_minor": 5
}
